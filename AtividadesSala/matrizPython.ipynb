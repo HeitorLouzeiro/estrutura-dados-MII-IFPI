{
 "cells": [
  {
   "cell_type": "markdown",
   "metadata": {},
   "source": [
    "Em Python (ou na linguagem que preferir) criar uma matriz 3x3 \n",
    "que receba no primeiro espaço de cada linha o nome do departamento \n",
    "e nas duas outras o nome do diretor e do vice desse departamento.\n",
    "Para cada get que nos laços, colocar uma mensagem para o usuário. "
   ]
  },
  {
   "cell_type": "code",
   "execution_count": 3,
   "metadata": {},
   "outputs": [
    {
     "name": "stdout",
     "output_type": "stream",
     "text": [
      "[['Corrente', 'José', 'Joao'], ['Floriano', 'Maria', 'Ana'], ['Terisna', 'karen', 'miguel']]\n"
     ]
    }
   ],
   "source": [
    "# Criação da matriz\n",
    "matriz = []\n",
    "\n",
    "# Laço para inserir os dados na matriz\n",
    "for i in range(3):\n",
    "    linha = []\n",
    "    for j in range(3):\n",
    "        if j == 0:\n",
    "            linha.append(input(\"Digite o nome do departamento: \"))\n",
    "        elif j == 1:\n",
    "            linha.append(input(\"Digite o nome do diretor: \"))\n",
    "        else:\n",
    "            linha.append(input(\"Digite o nome do vice-diretor: \"))\n",
    "    matriz.append(linha)\n",
    "print(matriz)\n"
   ]
  },
  {
   "cell_type": "code",
   "execution_count": 13,
   "metadata": {},
   "outputs": [
    {
     "name": "stdout",
     "output_type": "stream",
     "text": [
      "Corrente\tJosé\tJoao\t\n",
      "\n",
      "Floriano\tMaria\tAna\t\n",
      "\n",
      "Terisna\tkaren\tmiguel\t\n",
      "\n"
     ]
    }
   ],
   "source": [
    "for i in range(3):\n",
    "    for j in range(3):\n",
    "        print(matriz[i][j], end=\"\\t\")\n",
    "    print(\"\\n\")"
   ]
  }
 ],
 "metadata": {
  "kernelspec": {
   "display_name": "venv",
   "language": "python",
   "name": "python3"
  },
  "language_info": {
   "codemirror_mode": {
    "name": "ipython",
    "version": 3
   },
   "file_extension": ".py",
   "mimetype": "text/x-python",
   "name": "python",
   "nbconvert_exporter": "python",
   "pygments_lexer": "ipython3",
   "version": "3.11.2"
  },
  "orig_nbformat": 4
 },
 "nbformat": 4,
 "nbformat_minor": 2
}
