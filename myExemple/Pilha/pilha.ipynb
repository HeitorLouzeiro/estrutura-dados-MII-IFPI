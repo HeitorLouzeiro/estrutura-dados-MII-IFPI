{
 "cells": [
  {
   "cell_type": "markdown",
   "metadata": {},
   "source": [
    "# Primerio metodo."
   ]
  },
  {
   "cell_type": "code",
   "execution_count": 24,
   "metadata": {},
   "outputs": [],
   "source": [
    "class Pilha:\n",
    "    def __init__(self):\n",
    "        self.items = []\n",
    "\n",
    "    def isVazia(self):\n",
    "        return len(self.items) == 0\n",
    "\n",
    "    def push(self, item):\n",
    "        self.items.append(item)\n",
    "\n",
    "    def pop(self):\n",
    "        if self.isVazia():\n",
    "            return None\n",
    "        return self.items.pop()\n",
    "\n",
    "\n",
    "pilha = Pilha()"
   ]
  },
  {
   "cell_type": "markdown",
   "metadata": {},
   "source": [
    "--------------------------------------"
   ]
  },
  {
   "cell_type": "markdown",
   "metadata": {},
   "source": [
    "1- Iniciando cosntrutor da class.\n",
    "```\n",
    "def __init__(self):\n",
    "        self.items = []\n",
    "```\n",
    "---\n",
    "\n",
    "2- Serve para verificar se a lista está fazia\n",
    "```\n",
    "    def isVazia(self):\n",
    "        return len(self.items) == 0\n",
    "```\n",
    "---\n",
    "\n",
    "3- Adicionando elementos na lista.\n",
    "```\n",
    "    def push(self, item):\n",
    "        self.items.append(item)\n",
    "```\n",
    "---\n",
    "\n",
    "4- Removendo elementos da class.\n",
    "    * self.isVazia() referencia ao metodo da isVazia, para verificação da lista.       \n",
    "```\n",
    "    def pop(self):\n",
    "        if self.isVazia():\n",
    "            return None\n",
    "        return self.items.pop()\n",
    "```\n",
    "---\n",
    "5- Chamando a classe Pilha e colocando em uma variavel.     \n",
    "```\n",
    "    pilha = Pilha()\n",
    "```"
   ]
  },
  {
   "cell_type": "markdown",
   "metadata": {},
   "source": [
    "-----------------------------------"
   ]
  },
  {
   "cell_type": "markdown",
   "metadata": {},
   "source": [
    "### Adicionado elementos a lista chamando o metodo PUSH da class Pilha()."
   ]
  },
  {
   "cell_type": "code",
   "execution_count": 8,
   "metadata": {},
   "outputs": [
    {
     "name": "stdout",
     "output_type": "stream",
     "text": [
      "Inserindo 'A'\n",
      "Inserindo 'B'\n",
      "Inserindo 'C'\n",
      "Inserindo 'D'\n"
     ]
    }
   ],
   "source": [
    "print(\"Inserindo 'A'\")\n",
    "pilha.push(\"A\")\n",
    "print(\"Inserindo 'B'\")\n",
    "pilha.push(\"B\")\n",
    "print(\"Inserindo 'C'\")\n",
    "pilha.push(\"C\")\n",
    "print(\"Inserindo 'D'\")\n",
    "pilha.push(\"D\")"
   ]
  },
  {
   "cell_type": "markdown",
   "metadata": {},
   "source": [
    "### Removendo o ultimo elementa da Pilha."
   ]
  },
  {
   "cell_type": "code",
   "execution_count": 9,
   "metadata": {},
   "outputs": [
    {
     "name": "stdout",
     "output_type": "stream",
     "text": [
      "Removendo o topo\n",
      "D\n",
      "Removendo o topo\n",
      "C\n",
      "Removendo o topo\n",
      "B\n"
     ]
    }
   ],
   "source": [
    "print(\"Removendo o topo\")\n",
    "print(pilha.pop())\n",
    "print(\"Removendo o topo\")\n",
    "print(pilha.pop())\n",
    "print(\"Removendo o topo\")\n",
    "print(pilha.pop())"
   ]
  },
  {
   "cell_type": "markdown",
   "metadata": {},
   "source": [
    "### Mostrando os elementos restantes da pilha."
   ]
  },
  {
   "cell_type": "code",
   "execution_count": 10,
   "metadata": {},
   "outputs": [
    {
     "name": "stdout",
     "output_type": "stream",
     "text": [
      "Pilha com os elementos restantes.\n",
      "['A']\n"
     ]
    }
   ],
   "source": [
    "print(\"Pilha com os elementos restantes.\")\n",
    "if pilha.isVazia():\n",
    "    print(\"Pilha vazia\")\n",
    "else:\n",
    "    print(pilha.items)"
   ]
  },
  {
   "cell_type": "markdown",
   "metadata": {},
   "source": [
    "## Codigo completo."
   ]
  },
  {
   "cell_type": "code",
   "execution_count": 21,
   "metadata": {},
   "outputs": [
    {
     "name": "stdout",
     "output_type": "stream",
     "text": [
      "Inserindo 'A'\n",
      "Inserindo 'B'\n",
      "Inserindo 'C'\n",
      "Inserindo 'D'\n",
      "--------------------------------------------------\n",
      "Removendo o topo\n",
      "D\n",
      "Removendo o topo\n",
      "C\n",
      "Removendo o topo\n",
      "B\n",
      "--------------------------------------------------\n",
      "Pilha com os elementos restantes.\n",
      "['A']\n"
     ]
    }
   ],
   "source": [
    "class Pilha:\n",
    "    def __init__(self):\n",
    "        self.items = []\n",
    "\n",
    "    def isVazia(self):\n",
    "        return len(self.items) == 0\n",
    "\n",
    "    def push(self, item):\n",
    "        self.items.append(item)\n",
    "\n",
    "    def pop(self):\n",
    "        if self.isVazia():\n",
    "            return None\n",
    "        return self.items.pop()\n",
    "\n",
    "\n",
    "pilha = Pilha()\n",
    "space = '-' * 50\n",
    "\n",
    "print(\"Inserindo 'A'\")\n",
    "pilha.push(\"A\")\n",
    "print(\"Inserindo 'B'\")\n",
    "pilha.push(\"B\")\n",
    "print(\"Inserindo 'C'\")\n",
    "pilha.push(\"C\")\n",
    "print(\"Inserindo 'D'\")\n",
    "pilha.push(\"D\")\n",
    "print(space)\n",
    "\n",
    "print(\"Removendo o topo\")\n",
    "print(pilha.pop())\n",
    "print(\"Removendo o topo\")\n",
    "print(pilha.pop())\n",
    "print(\"Removendo o topo\")\n",
    "print(pilha.pop())\n",
    "print(space)\n",
    "\n",
    "print(\"Pilha com os elementos restantes.\")\n",
    "if pilha.isVazia():\n",
    "    print(\"Pilha vazia\")\n",
    "else:\n",
    "    print(pilha.items)"
   ]
  },
  {
   "cell_type": "markdown",
   "metadata": {},
   "source": [
    "### Removidos todos os elementos da pilha."
   ]
  },
  {
   "cell_type": "code",
   "execution_count": 22,
   "metadata": {},
   "outputs": [
    {
     "name": "stdout",
     "output_type": "stream",
     "text": [
      "Removendo o topo\n",
      "A\n",
      "--------------------------------------------------\n",
      "Pilha com os elementos restantes.\n",
      "Pilha vazia\n"
     ]
    }
   ],
   "source": [
    "print(\"Removendo o topo\")\n",
    "print(pilha.pop())\n",
    "print(space)\n",
    "\n",
    "print(\"Pilha com os elementos restantes.\")\n",
    "if pilha.isVazia():\n",
    "    print(\"Pilha vazia\")\n",
    "else:\n",
    "    print(pilha.items)"
   ]
  },
  {
   "cell_type": "markdown",
   "metadata": {},
   "source": []
  },
  {
   "cell_type": "markdown",
   "metadata": {},
   "source": [
    "# Segundo metodo\n"
   ]
  },
  {
   "cell_type": "markdown",
   "metadata": {},
   "source": [
    "### Inserção de elemento da pilha por meio de uma class."
   ]
  },
  {
   "cell_type": "code",
   "execution_count": 26,
   "metadata": {},
   "outputs": [],
   "source": [
    "class ElementoPilha():\n",
    "    def __init__(self, valorInicial):\n",
    "        # Cria um elemento de pilha\n",
    "        # contendo o valor empilhado\n",
    "        self.valor = valorInicial\n",
    "        # e a referência para o elemento abaixo dele na pilha\n",
    "        self.anterior = None"
   ]
  },
  {
   "cell_type": "markdown",
   "metadata": {},
   "source": [
    "* Este atributo armazena o valor do elemento. (números, strings, objetos, etc.)\n",
    "```\n",
    "    self.valor\n",
    "```\n",
    "---\n",
    "\n",
    "* Esse atributo se referencia ao elemento anterior.\n",
    "```\n",
    "    self.anterior\n",
    "```\n",
    "---"
   ]
  },
  {
   "cell_type": "markdown",
   "metadata": {},
   "source": [
    "* Exemplo.\n",
    "\n",
    "Topo da pilha\n",
    "|C|\n",
    "---\n",
    "|B|\n",
    "|A|\n",
    "|None|\n",
    "\n",
    "Neste exemplo:\n",
    "\n",
    "* O elemento \"A\" está na parte de baixo da pilha e não tem um elemento abaixo dele, então self.anterior de \"A\" é None.\n",
    "\n",
    "* O elemento \"B\" está no meio da pilha e tem o elemento \"A\" abaixo dele, então self.anterior de \"B\" aponta para \"A\".\n",
    "\n",
    "* O elemento \"C\" está no topo da pilha e tem o elemento \"B\" abaixo dele, então self.anterior de \"C\" aponta para \"B\"."
   ]
  },
  {
   "cell_type": "markdown",
   "metadata": {},
   "source": [
    "## class Pilha."
   ]
  },
  {
   "cell_type": "code",
   "execution_count": 32,
   "metadata": {},
   "outputs": [],
   "source": [
    "class Pilha():  # Classe Nativa do Python\n",
    "    def __init__(self):\n",
    "        # Cria uma pilha vazia\n",
    "        self.elementoPilha = None\n",
    "\n",
    "    def empilha(self, valor):\n",
    "        # Cria um elemento para a pilha\n",
    "        novoElementoPilha = ElementoPilha(valorInicial=valor)\n",
    "\n",
    "        # Se a pilha já tiver um elemento, coloque ele como um\n",
    "        # elemento anterior ao novo elemento\n",
    "        if self.elementoPilha is not None:\n",
    "            novoElementoPilha.anterior = self.elementoPilha\n",
    "\n",
    "        # Coloque o novo elemento no topo da pilha\n",
    "        self.elementoPilha = novoElementoPilha\n",
    "\n",
    "    def desempilha(self):\n",
    "        # Se a pilha estiver vazia, não retorna nada (no caso, retorna None)\n",
    "        if self.elementoPilha is None:\n",
    "            return None\n",
    "\n",
    "        # Se não estiver vazia, tira o elemento do topo\n",
    "        elementoPilhaRemovido = self.elementoPilha\n",
    "\n",
    "        # E substitui o elemento do topo pelo anterior\n",
    "        self.elementoPilha = elementoPilhaRemovido.anterior\n",
    "        return elementoPilhaRemovido.valor"
   ]
  },
  {
   "cell_type": "markdown",
   "metadata": {},
   "source": [
    "### Construtor da Pilha"
   ]
  },
  {
   "cell_type": "code",
   "execution_count": null,
   "metadata": {},
   "outputs": [],
   "source": [
    "    def __init__(self):\n",
    "        # Cria uma pilha vazia\n",
    "        self.elementoPilha = None"
   ]
  },
  {
   "cell_type": "markdown",
   "metadata": {},
   "source": [
    "* Esse atributo elementoPilha criar uma pilha com valor inicialmente **None**.\n",
    "\n",
    "```\n",
    "    self.elementoPilha = None\n",
    "```\n",
    "----"
   ]
  },
  {
   "cell_type": "markdown",
   "metadata": {},
   "source": [
    "### Função Empilhar."
   ]
  },
  {
   "cell_type": "code",
   "execution_count": null,
   "metadata": {},
   "outputs": [],
   "source": [
    "    def empilha(self, valor):\n",
    "        # Cria um elemento para a pilha\n",
    "        novoElementoPilha = ElementoPilha(valorInicial=valor)\n",
    "\n",
    "        # Se a pilha já tiver um elemento, coloque ele como um\n",
    "        # elemento anterior ao novo elemento\n",
    "        if self.elementoPilha is not None:\n",
    "            novoElementoPilha.anterior = self.elementoPilha\n",
    "\n",
    "        # Coloque o novo elemento no topo da pilha\n",
    "        self.elementoPilha = novoElementoPilha"
   ]
  },
  {
   "cell_type": "markdown",
   "metadata": {},
   "source": [
    "* Função para adicionar elementos na pilha.\n",
    "```\n",
    "def empilha(self, valor):\n",
    "```\n",
    "---\n",
    "\n",
    "* ElementoPilha se refere a **class ElementoPilha()**, esta criando o objeto dessa classe, uma **instância**, ou seja oque essa classe terá de elemento. **(String,inteiro,boolean)**\n",
    "\n",
    "```\n",
    "    novoElementoPilha = ElementoPilha(valorInicial=valor)\n",
    "```\n",
    "\n",
    "\n",
    "* **valorInicial=valor**\n",
    "\n",
    "* Isso é a forma de passar o valor para o contrutor da **class ElementoPilha**.\n",
    "* Ou seja ela cria um novo elemento que contém o valor que você deseja adicionar à pilha. Sendo adicionado no **Topo** da pilha.\n",
    "\n",
    "-----\n",
    "\n",
    "* **if self.elementoPilha is not None**: Verifica se a pilha não está vazia. Ou seja não é **None**.\n",
    "* Se for verdadeira significa que a pilha tem um elemento.\n",
    "\n",
    "```\n",
    "    if self.elementoPilha is not None:\n",
    "        novoElementoPilha.anterior = self.elementoPilha\n",
    "```\n",
    "---\n",
    "\n",
    "\n",
    "```\n",
    "    novoElementoPilha.anterior = self.elementoPilha\n",
    "```\n",
    "* Esse atributo **anterior** vem da **class ElementoPilha**  que aponta para o elemento que está no topo da pilha **(self.elementoPilha)**.\n",
    "* Ou seja o elemento é colocado em cima do elemento anterior, mantendo o conceito de **LIFO (último a entrar, primeiro a sair)**.\n",
    "\n",
    "---\n",
    "\n",
    "```\n",
    "    self.elementoPilha = novoElementoPilha\n",
    "```\n",
    "* Ele atualiza o atributo **elementoPilha** da class **Pilha**, faz com que o **novoElementoPilha** seja adicionado no topo da pilha.\n",
    "---\n",
    "\n",
    "* Exemplo.\n",
    "\n",
    "    Topo da pilha\n",
    "\n",
    "    |2|\n",
    "    ---\n",
    "    |1|\n",
    "    |None|\n",
    "\n",
    "* E você empilha um novo elemento com valor **3**, após a execução de self.elementoPilha = novoElementoPilha, a pilha ficará assim:\n",
    "Topo da pilha\n",
    "\n",
    "    |3|\n",
    "    ---\n",
    "    |2|\n",
    "    |1|\n",
    "    |None|"
   ]
  },
  {
   "cell_type": "markdown",
   "metadata": {},
   "source": [
    "### Função Desempilhar."
   ]
  },
  {
   "cell_type": "code",
   "execution_count": null,
   "metadata": {},
   "outputs": [],
   "source": [
    "def desempilha(self):\n",
    "        # Se a pilha estiver vazia, não retorna nada (no caso, retorna None)\n",
    "        if self.elementoPilha is None:\n",
    "            return None\n",
    "\n",
    "        # Se não estiver vazia, tira o elemento do topo\n",
    "        elementoPilhaRemovido = self.elementoPilha\n",
    "\n",
    "        # E substitui o elemento do topo pelo anterior\n",
    "        self.elementoPilha = elementoPilhaRemovido.anterior\n",
    "        return elementoPilhaRemovido.valor"
   ]
  },
  {
   "cell_type": "markdown",
   "metadata": {},
   "source": [
    "---\n",
    "* Função desempilhar. **(Apagar o ultimo elemento da pilha)**\n",
    "```\n",
    "def desempilha(self):\n",
    "```\n",
    "---\n",
    "\n",
    "```\n",
    "    if self.elementoPilha is None:\n",
    "        return None\n",
    "```\n",
    "* Se a pilha for **None** irá retornar None.\n",
    "* Ou sejá não tem mais nada para ser removido.\n",
    "---\n",
    "\n",
    "```\n",
    "     elementoPilhaRemovido = self.elementoPilha\n",
    "```\n",
    "* **elementoPilhaRemovido**: É uma variável que armazena o elemento que está sendo desempilhado. \n",
    "* É o elemento que estava no topo da pilha antes da remoção.\n",
    "----\n",
    "\n",
    "```\n",
    "    self.elementoPilha = elementoPilhaRemovido.anterior\n",
    "    \n",
    "```\n",
    "* **elementoPilhaRemovido.anterior** Ele aponta para o elemento anterior, ou seja o elemento que está abaixo.\n",
    "* Fazendo com que o elemento abaixo será o novo topo da pilha.\n",
    "---\n",
    "\n",
    "```\n",
    "    return elementoPilhaRemovido.valor\n",
    "```\n",
    "* Serve para mostrar caso quise o elemento que foi removido.\n",
    "---"
   ]
  },
  {
   "cell_type": "markdown",
   "metadata": {},
   "source": [
    "* Exemplo.\n",
    "\n",
    "    Topo da pilha\n",
    "    |3|\n",
    "    ---\n",
    "    |2|\n",
    "    |1|\n",
    "----\n",
    "* Função desempilhar.\n",
    "    * Elemento removido: 3\n",
    "    * Novo topo da pilha: 2\n",
    "    \n",
    "        Topo da pilha\n",
    "        |2|\n",
    "        ---\n",
    "        |1|"
   ]
  },
  {
   "cell_type": "markdown",
   "metadata": {},
   "source": [
    "### Empilhando e desempilhado elementos"
   ]
  },
  {
   "cell_type": "code",
   "execution_count": 33,
   "metadata": {},
   "outputs": [
    {
     "name": "stdout",
     "output_type": "stream",
     "text": [
      "None\n"
     ]
    }
   ],
   "source": [
    "# Cria uma pilha de teste\n",
    "pilhaTeste = Pilha()\n",
    "\n",
    "# Tenta desempilhar pilha vazia\n",
    "print(pilhaTeste.desempilha()) # imprimirá: None\n"
   ]
  },
  {
   "cell_type": "code",
   "execution_count": 39,
   "metadata": {},
   "outputs": [
    {
     "name": "stdout",
     "output_type": "stream",
     "text": [
      "Empilhando 3 itens\n",
      "Empilhando 1\n",
      "Empilhando 2\n",
      "Empilhando 3\n"
     ]
    }
   ],
   "source": [
    "# Empilhar 3 itens\n",
    "print(\"Empilhando 3 itens\")\n",
    "print(\"Empilhando 1\")\n",
    "pilhaTeste.empilha(1)\n",
    "print(\"Empilhando 2\")\n",
    "pilhaTeste.empilha(2)\n",
    "print(\"Empilhando 3\")\n",
    "pilhaTeste.empilha(3)\n"
   ]
  },
  {
   "cell_type": "code",
   "execution_count": 42,
   "metadata": {},
   "outputs": [
    {
     "name": "stdout",
     "output_type": "stream",
     "text": [
      "3\n",
      "4\n",
      "2\n",
      "1\n",
      "None\n",
      "1\n"
     ]
    }
   ],
   "source": [
    "# Desempilhar 4 itens\n",
    "print(pilhaTeste.desempilha())\n",
    "pilhaTeste.empilha(4)\n",
    "print(pilhaTeste.desempilha())\n",
    "print(pilhaTeste.desempilha())\n",
    "print(pilhaTeste.desempilha())\n",
    "print(pilhaTeste.desempilha())\n",
    "pilhaTeste.empilha(1)\n",
    "print(pilhaTeste.desempilha())"
   ]
  }
 ],
 "metadata": {
  "kernelspec": {
   "display_name": "Python 3",
   "language": "python",
   "name": "python3"
  },
  "language_info": {
   "codemirror_mode": {
    "name": "ipython",
    "version": 3
   },
   "file_extension": ".py",
   "mimetype": "text/x-python",
   "name": "python",
   "nbconvert_exporter": "python",
   "pygments_lexer": "ipython3",
   "version": "3.11.2"
  },
  "orig_nbformat": 4
 },
 "nbformat": 4,
 "nbformat_minor": 2
}
